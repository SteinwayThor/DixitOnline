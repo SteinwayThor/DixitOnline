{
 "cells": [
  {
   "cell_type": "code",
   "execution_count": 1,
   "metadata": {
    "collapsed": false
   },
   "outputs": [
    {
     "data": {
      "application/vnd.jupyter.widget-view+json": {
       "model_id": "d43a0f387c9f419fb12c2daf366784b3",
       "version_major": 2,
       "version_minor": 0
      },
      "text/plain": [
       "VBox(children=(HTML(value='<center> <img\\nsrc=https://huggingface.co/front/assets/huggingface_logo-noborder.sv…"
      ]
     },
     "metadata": {},
     "output_type": "display_data"
    }
   ],
   "source": [
    "from huggingface_hub import notebook_login\n",
    "notebook_login()"
   ]
  },
  {
   "cell_type": "code",
   "execution_count": 3,
   "metadata": {
    "collapsed": false
   },
   "outputs": [],
   "source": [
    "%load_ext autoreload\n",
    "%autoreload 2\n",
    "\n"
   ]
  },
  {
   "cell_type": "code",
   "execution_count": 5,
   "metadata": {},
   "outputs": [
    {
     "data": {
      "application/vnd.jupyter.widget-view+json": {
       "model_id": "d22a69526d294e14879ea4e33c3737d9",
       "version_major": 2,
       "version_minor": 0
      },
      "text/plain": [
       "Fetching 16 files:   0%|          | 0/16 [00:00<?, ?it/s]"
      ]
     },
     "metadata": {},
     "output_type": "display_data"
    },
    {
     "name": "stderr",
     "output_type": "stream",
     "text": [
      "You have passed `None` for safety_checker to disable its functionality in <class 'diffusers.pipelines.stable_diffusion.pipeline_stable_diffusion.StableDiffusionPipeline'>. Note that this might lead to problems when using <class 'diffusers.pipelines.stable_diffusion.pipeline_stable_diffusion.StableDiffusionPipeline'> and is not recommended.\n",
      "You have disabled the safety checker for <class 'diffusers.pipelines.stable_diffusion.pipeline_stable_diffusion.StableDiffusionPipeline'> by passing `safety_checker=None`. Ensure that you abide to the conditions of the Stable Diffusion license and do not expose unfiltered results in services or applications open to the public. Both the diffusers team and Hugging Face strongly recommend to keep the safety filter enabled in all public facing circumstances, disabling it only for use-cases that involve analyzing network behavior or auditing its results. For more information, please have a look at https://github.com/huggingface/diffusers/pull/254 .\n"
     ]
    }
   ],
   "source": [
    "import torch\n",
    "from diffusers import StableDiffusionPipeline\n",
    "from stablediffusion_dixit.image_generation.local_generation.progress_capturer import ProgressCapturer\n",
    "\n",
    "\n",
    "\n",
    "\n",
    "if not torch.cuda.is_available():\n",
    "    pipe = StableDiffusionPipeline.from_pretrained(\"CompVis/stable-diffusion-v1-4\", safety_checker=None)\n",
    "    if torch.backends.mps.is_available():\n",
    "        pipe = pipe.to(\"mps\")\n",
    "else:\n",
    "    pipe = StableDiffusionPipeline.from_pretrained(\"CompVis/stable-diffusion-v1-4\", revision=\"fp16\", torch_dtype=torch.float16, safety_checker=None).to(\"cuda:0\")\n"
   ]
  },
  {
   "cell_type": "code",
   "execution_count": 1,
   "metadata": {
    "collapsed": false
   },
   "outputs": [
    {
     "ename": "NameError",
     "evalue": "name 'ProgressCapturer' is not defined",
     "output_type": "error",
     "traceback": [
      "\u001b[1;31m---------------------------------------------------------------------------\u001b[0m",
      "\u001b[1;31mNameError\u001b[0m                                 Traceback (most recent call last)",
      "\u001b[1;32mc:\\Users\\torst\\Desktop\\Hackathon\\HackHarvard 2022\\HackHarvard\\difftest.ipynb Cell 4\u001b[0m in \u001b[0;36m<cell line: 1>\u001b[1;34m()\u001b[0m\n\u001b[1;32m----> <a href='vscode-notebook-cell:/c%3A/Users/torst/Desktop/Hackathon/HackHarvard%202022/HackHarvard/difftest.ipynb#W3sZmlsZQ%3D%3D?line=0'>1</a>\u001b[0m pc \u001b[39m=\u001b[39m ProgressCapturer(pipe)\n\u001b[0;32m      <a href='vscode-notebook-cell:/c%3A/Users/torst/Desktop/Hackathon/HackHarvard%202022/HackHarvard/difftest.ipynb#W3sZmlsZQ%3D%3D?line=1'>2</a>\u001b[0m i \u001b[39m=\u001b[39m pipe(\u001b[39m\"\u001b[39m\u001b[39man astronaut riding a horse, abstract digital art\u001b[39m\u001b[39m\"\u001b[39m, num_inference_steps\u001b[39m=\u001b[39m\u001b[39m20\u001b[39m, width\u001b[39m=\u001b[39m\u001b[39m384\u001b[39m, height\u001b[39m=\u001b[39m\u001b[39m512\u001b[39m, callback\u001b[39m=\u001b[39mpc)\u001b[39m.\u001b[39mimages\n\u001b[0;32m      <a href='vscode-notebook-cell:/c%3A/Users/torst/Desktop/Hackathon/HackHarvard%202022/HackHarvard/difftest.ipynb#W3sZmlsZQ%3D%3D?line=2'>3</a>\u001b[0m pci \u001b[39m=\u001b[39m pc\u001b[39m.\u001b[39mget_images()\n",
      "\u001b[1;31mNameError\u001b[0m: name 'ProgressCapturer' is not defined"
     ]
    }
   ],
   "source": [
    "pc = ProgressCapturer(pipe)\n",
    "i = pipe(\"an astronaut riding a horse, abstract digital art\", num_inference_steps=20, width=384, height=512, callback=pc).images\n",
    "pci = pc.get_images()\n",
    "i[0]"
   ]
  },
  {
   "cell_type": "code",
   "execution_count": null,
   "metadata": {
    "collapsed": false
   },
   "outputs": [],
   "source": [
    "with torch.no_grad():\n",
    "    latents = torch.stack(pc.latents).reshape(11, 4, 64, 48)[9:11]\n",
    "\n",
    "    latents = 1 / 0.18215 * latents\n",
    "    images = pipe.vae.decode(latents).sample\n",
    "\n",
    "    images = (images / 2 + 0.5).clamp(0, 1)\n",
    "\n",
    "    images = images.cpu().permute(0, 2, 3, 1).float().numpy()\n",
    "    p = pipe.numpy_to_pil(images)\n"
   ]
  },
  {
   "cell_type": "code",
   "execution_count": null,
   "metadata": {
    "collapsed": false
   },
   "outputs": [],
   "source": [
    "pci[10]"
   ]
  },
  {
   "cell_type": "code",
   "execution_count": 11,
   "metadata": {
    "collapsed": false
   },
   "outputs": [],
   "source": [
    "pci[2].save('generation.gif', format='GIF',\n",
    "               append_images=pci[3:], save_all=True, duration=300, loop=0)"
   ]
  },
  {
   "cell_type": "code",
   "execution_count": null,
   "metadata": {
    "collapsed": false
   },
   "outputs": [],
   "source": [
    "from RealESRGAN import RealESRGAN"
   ]
  },
  {
   "cell_type": "code",
   "execution_count": null,
   "metadata": {
    "collapsed": false
   },
   "outputs": [],
   "source": [
    "model = RealESRGAN(\"mps\", scale=2)\n",
    "model.load_weights(\"weights/RealESRGAN_x2.pth\", download=True)"
   ]
  },
  {
   "cell_type": "code",
   "execution_count": null,
   "metadata": {
    "collapsed": false
   },
   "outputs": [],
   "source": [
    "model.predict(i[0].convert(\"RGB\"))"
   ]
  },
  {
   "cell_type": "code",
   "execution_count": 1,
   "metadata": {
    "collapsed": false
   },
   "outputs": [],
   "source": [
    "from stablediffusion_dixit.image_generation.local_generation.local_image_generator import LocalImageGenerator\n"
   ]
  },
  {
   "cell_type": "code",
   "execution_count": 2,
   "metadata": {
    "collapsed": false
   },
   "outputs": [],
   "source": [
    "l = LocalImageGenerator()"
   ]
  },
  {
   "cell_type": "code",
   "execution_count": 10,
   "metadata": {
    "collapsed": false
   },
   "outputs": [
    {
     "data": {
      "text/plain": [
       "2"
      ]
     },
     "execution_count": 10,
     "metadata": {},
     "output_type": "execute_result"
    }
   ],
   "source": [
    "l.request_generation(\"an astronaut riding a horse\", lambda idx, path1, path2: print(f\"{idx}: {path1}, {path2}\"))\n"
   ]
  },
  {
   "cell_type": "code",
   "execution_count": 9,
   "metadata": {
    "collapsed": false
   },
   "outputs": [],
   "source": [
    "l.get_image_and_anim(0)"
   ]
  }
 ],
 "metadata": {
  "kernelspec": {
   "display_name": "Python 3.9.12 64-bit",
   "language": "python",
   "name": "python3"
  },
  "language_info": {
   "codemirror_mode": {
    "name": "ipython",
    "version": 3
   },
   "file_extension": ".py",
   "mimetype": "text/x-python",
   "name": "python",
   "nbconvert_exporter": "python",
   "pygments_lexer": "ipython3",
   "version": "3.9.12"
  },
  "vscode": {
   "interpreter": {
    "hash": "2a7e277ada53ea871c860a70df154549b081ef9ac21ea7315dc47bd84ca6bc49"
   }
  }
 },
 "nbformat": 4,
 "nbformat_minor": 1
}
